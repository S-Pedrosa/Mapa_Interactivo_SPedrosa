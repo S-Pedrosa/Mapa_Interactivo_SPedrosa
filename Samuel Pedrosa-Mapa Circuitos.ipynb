{
 "cells": [
  {
   "cell_type": "markdown",
   "id": "9b55b986-b3a1-4166-901f-ba6fff3b1c7f",
   "metadata": {
    "executionInfo": {
     "elapsed": 2,
     "status": "ok",
     "timestamp": 1648221391927,
     "user": {
      "displayName": "Samuel Pedrosa",
      "photoUrl": "https://lh3.googleusercontent.com/a/default-user=s64",
      "userId": "03639184569403953080"
     },
     "user_tz": -60
    },
    "id": "d88939e2-2333-49a0-9067-0981bc6e8777"
   },
   "source": [
    "# Mapa Interactivo"
   ]
  },
  {
   "cell_type": "markdown",
   "id": "61eba94a-5c03-47fe-a672-1e86df2ec6b7",
   "metadata": {},
   "source": [
    "## Samuel Pedrosa"
   ]
  },
  {
   "cell_type": "markdown",
   "id": "604be8a4-c9df-465b-86f7-93e8fecb07c3",
   "metadata": {},
   "source": [
    "### O noso mapa amorsará a seguinte información:\n",
    "### -Circuitos do mundo (Scrapping de Wikipedia)\n",
    "### -Trazados dos circuitos de Formula 1 (arquivo.geojson, que contén os trazados dos circuitos de F1 da tempada 2021, e de algúns de tempada anteriores)\n",
    "### -Fábricas dos equipos da tempada 2022 (arquivo .csv)\n",
    "### -Arquivo geojson de países (Para ver os limites entre países)\n",
    "### -Arquivo csv cos circuitos da que faltan no scraping,tempada 2021, xa que algún non aparece na Wikipedia"
   ]
  },
  {
   "cell_type": "markdown",
   "id": "70812768-0ce7-4879-8976-b00286ebc4eb",
   "metadata": {},
   "source": [
    "#### 1. Importación de librerías e carga de ficheiros"
   ]
  },
  {
   "cell_type": "code",
   "execution_count": null,
   "id": "7b1dfd7d-da38-4db6-b648-e67d1e0ed03c",
   "metadata": {},
   "outputs": [],
   "source": [
    "import requests\n",
    "from bs4 import BeautifulSoup\n",
    "import pandas as pd\n",
    "import folium\n",
    "import re\n",
    "import folium\n",
    "from folium.plugins import MarkerCluster"
   ]
  },
  {
   "cell_type": "code",
   "execution_count": null,
   "id": "83003794-2dfa-46bb-a188-5582fa065c60",
   "metadata": {},
   "outputs": [],
   "source": [
    "file = 'C:/Users/samuel.pedrosapedros/Downloads/countries.geojson'\n",
    "f1 = 'C:/Users/samuel.pedrosapedros/Downloads/f1_circuits.geojson'\n",
    "constructores=pd.read_csv('C:/Users/samuel.pedrosapedros/Downloads/constructores.csv')\n",
    "circuitos_2021=pd.read_csv('C:/Users/samuel.pedrosapedros/Downloads/circuitos.csv')"
   ]
  },
  {
   "cell_type": "markdown",
   "id": "82574867-59df-4bcb-b589-78f48ccd2d17",
   "metadata": {},
   "source": [
    "#### 2.Vamos scrapear os datos dos circutos da Wikipedia, para crear un DataFrame, onde almacenemos as cordenadas e o nome de cada circuito"
   ]
  },
  {
   "cell_type": "code",
   "execution_count": null,
   "id": "9cfc8511-054c-4a80-91ec-8c3a4f8ac7d8",
   "metadata": {
    "executionInfo": {
     "elapsed": 268,
     "status": "ok",
     "timestamp": 1648221395296,
     "user": {
      "displayName": "Samuel Pedrosa",
      "photoUrl": "https://lh3.googleusercontent.com/a/default-user=s64",
      "userId": "03639184569403953080"
     },
     "user_tz": -60
    },
    "id": "9cfc8511-054c-4a80-91ec-8c3a4f8ac7d8",
    "tags": []
   },
   "outputs": [],
   "source": [
    "url = \"https://es.wikipedia.org/wiki/Anexo:Circuitos_de_carreras\"\n",
    "paxina = requests.get(url)"
   ]
  },
  {
   "cell_type": "code",
   "execution_count": null,
   "id": "2758bfcd-912a-4412-93af-cc49c55f2633",
   "metadata": {
    "executionInfo": {
     "elapsed": 1121,
     "status": "ok",
     "timestamp": 1648221399559,
     "user": {
      "displayName": "Samuel Pedrosa",
      "photoUrl": "https://lh3.googleusercontent.com/a/default-user=s64",
      "userId": "03639184569403953080"
     },
     "user_tz": -60
    },
    "id": "2758bfcd-912a-4412-93af-cc49c55f2633",
    "tags": []
   },
   "outputs": [],
   "source": [
    "soup = BeautifulSoup(paxina.content, 'html.parser')"
   ]
  },
  {
   "cell_type": "markdown",
   "id": "bf1a6c26-2c3a-4ffb-9c7c-8e938c42cfa5",
   "metadata": {},
   "source": [
    "##### 2.1. Imos almacenar os nomes nunha lista, para despois metela nun DatFrame"
   ]
  },
  {
   "cell_type": "code",
   "execution_count": null,
   "id": "e7d789b2-c941-4981-b9c8-9d50901d2649",
   "metadata": {
    "colab": {
     "base_uri": "https://localhost:8080/"
    },
    "executionInfo": {
     "elapsed": 276,
     "status": "ok",
     "timestamp": 1648221402007,
     "user": {
      "displayName": "Samuel Pedrosa",
      "photoUrl": "https://lh3.googleusercontent.com/a/default-user=s64",
      "userId": "03639184569403953080"
     },
     "user_tz": -60
    },
    "id": "e7d789b2-c941-4981-b9c8-9d50901d2649",
    "outputId": "c701d410-295f-4527-857a-b434b7a89737",
    "tags": []
   },
   "outputs": [],
   "source": [
    "nomes_circuitos = []\n",
    "for circuito in soup.find_all('th'):\n",
    "    nomes_circuitos.append(circuito.text)"
   ]
  },
  {
   "cell_type": "markdown",
   "id": "f6d2adde-c11c-495e-94e3-2966f45db856",
   "metadata": {},
   "source": [
    "#### 2.2. Eliminamos os texto de encabezado da taboa, para quedar só cos nomes dos circuitos"
   ]
  },
  {
   "cell_type": "code",
   "execution_count": null,
   "id": "b76ae07c-bdcd-4cbd-a92c-361ae2313996",
   "metadata": {
    "colab": {
     "base_uri": "https://localhost:8080/"
    },
    "executionInfo": {
     "elapsed": 268,
     "status": "ok",
     "timestamp": 1648221410215,
     "user": {
      "displayName": "Samuel Pedrosa",
      "photoUrl": "https://lh3.googleusercontent.com/a/default-user=s64",
      "userId": "03639184569403953080"
     },
     "user_tz": -60
    },
    "id": "b76ae07c-bdcd-4cbd-a92c-361ae2313996",
    "outputId": "3000999d-35b0-413e-8da7-f7447f153e36",
    "tags": []
   },
   "outputs": [],
   "source": [
    "for i in range(0,5):\n",
    "    nomes_circuitos.pop(0)\n",
    "nomes_circuitos = nomes_circuitos[:226]\n",
    "nomes_circuitos[:5]"
   ]
  },
  {
   "cell_type": "markdown",
   "id": "86e2f7ac-f88c-4686-b82b-ddcd4a700c94",
   "metadata": {},
   "source": [
    "##### 2.3. Limpamos os nomes para quedarnos soamente co texto"
   ]
  },
  {
   "cell_type": "code",
   "execution_count": null,
   "id": "c6ee6db7-9011-4e36-8400-b7e6caaec858",
   "metadata": {
    "colab": {
     "base_uri": "https://localhost:8080/"
    },
    "executionInfo": {
     "elapsed": 260,
     "status": "ok",
     "timestamp": 1648221415381,
     "user": {
      "displayName": "Samuel Pedrosa",
      "photoUrl": "https://lh3.googleusercontent.com/a/default-user=s64",
      "userId": "03639184569403953080"
     },
     "user_tz": -60
    },
    "id": "c6ee6db7-9011-4e36-8400-b7e6caaec858",
    "outputId": "2e63c58b-0b76-49e0-f86a-e66b6d0558fd",
    "tags": []
   },
   "outputs": [],
   "source": [
    "nomes=[]\n",
    "for i in range(0,226):\n",
    "    nomes.append(nomes_circuitos[i].strip('\\n'))\n",
    "nomes[:3]"
   ]
  },
  {
   "cell_type": "markdown",
   "id": "a3b76709-0bd4-4122-bd21-3955d04b60e4",
   "metadata": {},
   "source": [
    "##### 2.4.Agora imos obter as coordenadas de latitude de cada circuito (O pop facémolo, para que só se nos garden as coordenadas decimais, que son as que queremos)"
   ]
  },
  {
   "cell_type": "code",
   "execution_count": null,
   "id": "3a5d698d-c584-4b3d-b4ce-c4182ef6e6aa",
   "metadata": {
    "executionInfo": {
     "elapsed": 249,
     "status": "ok",
     "timestamp": 1648221418730,
     "user": {
      "displayName": "Samuel Pedrosa",
      "photoUrl": "https://lh3.googleusercontent.com/a/default-user=s64",
      "userId": "03639184569403953080"
     },
     "user_tz": -60
    },
    "id": "3a5d698d-c584-4b3d-b4ce-c4182ef6e6aa",
    "tags": []
   },
   "outputs": [],
   "source": [
    "lat=soup.find_all('span',{'class':'latitude'})\n",
    "for i in range(0,226):\n",
    "    lat.pop(i);\n",
    "    i+2;"
   ]
  },
  {
   "cell_type": "code",
   "execution_count": null,
   "id": "ed2c4e3d-b1d5-44b2-90d1-d14f3317ba0f",
   "metadata": {
    "colab": {
     "base_uri": "https://localhost:8080/"
    },
    "executionInfo": {
     "elapsed": 285,
     "status": "ok",
     "timestamp": 1648221420995,
     "user": {
      "displayName": "Samuel Pedrosa",
      "photoUrl": "https://lh3.googleusercontent.com/a/default-user=s64",
      "userId": "03639184569403953080"
     },
     "user_tz": -60
    },
    "id": "ed2c4e3d-b1d5-44b2-90d1-d14f3317ba0f",
    "outputId": "8ad9b30d-56fe-44c0-9074-544868f9cb03"
   },
   "outputs": [],
   "source": [
    "len(lat)"
   ]
  },
  {
   "cell_type": "code",
   "execution_count": null,
   "id": "c201547c-d3fe-4317-94a0-68631a0f504f",
   "metadata": {
    "colab": {
     "base_uri": "https://localhost:8080/"
    },
    "executionInfo": {
     "elapsed": 260,
     "status": "ok",
     "timestamp": 1648221423493,
     "user": {
      "displayName": "Samuel Pedrosa",
      "photoUrl": "https://lh3.googleusercontent.com/a/default-user=s64",
      "userId": "03639184569403953080"
     },
     "user_tz": -60
    },
    "id": "c201547c-d3fe-4317-94a0-68631a0f504f",
    "outputId": "4797ee55-4798-49fc-a51d-22a2a61acc69",
    "tags": []
   },
   "outputs": [],
   "source": [
    "latitude=[]\n",
    "for i in range(0,len(lat)):\n",
    "    latitude.append(lat[i].text.strip(', '))\n",
    "latitude[:3]"
   ]
  },
  {
   "cell_type": "markdown",
   "id": "12563048-f595-4050-a3cb-2fcd0b9d49da",
   "metadata": {},
   "source": [
    "##### 2.5.Facemos o mesmo que ca latitude, pero neste caso coa lonxitude"
   ]
  },
  {
   "cell_type": "code",
   "execution_count": null,
   "id": "9c502391-94dc-42ca-80f8-6be52716fca8",
   "metadata": {
    "executionInfo": {
     "elapsed": 292,
     "status": "ok",
     "timestamp": 1648221427425,
     "user": {
      "displayName": "Samuel Pedrosa",
      "photoUrl": "https://lh3.googleusercontent.com/a/default-user=s64",
      "userId": "03639184569403953080"
     },
     "user_tz": -60
    },
    "id": "9c502391-94dc-42ca-80f8-6be52716fca8",
    "tags": []
   },
   "outputs": [],
   "source": [
    "lon=soup.find_all('span',{'class':'longitude'})\n",
    "for i in range(0,226):\n",
    "    lon.pop(i);\n",
    "    i+2;"
   ]
  },
  {
   "cell_type": "code",
   "execution_count": null,
   "id": "1bedf769-d5a8-4caa-b4e3-88ac948852e7",
   "metadata": {
    "colab": {
     "base_uri": "https://localhost:8080/"
    },
    "executionInfo": {
     "elapsed": 274,
     "status": "ok",
     "timestamp": 1648221429390,
     "user": {
      "displayName": "Samuel Pedrosa",
      "photoUrl": "https://lh3.googleusercontent.com/a/default-user=s64",
      "userId": "03639184569403953080"
     },
     "user_tz": -60
    },
    "id": "1bedf769-d5a8-4caa-b4e3-88ac948852e7",
    "outputId": "a9b1257a-a0a3-458c-8f46-d14eb9fa4def",
    "tags": []
   },
   "outputs": [],
   "source": [
    "lonxitude=[]\n",
    "for i in range(0,len(lon)):\n",
    "    lonxitude.append(lon[i].text)\n",
    "lonxitude[:3]"
   ]
  },
  {
   "cell_type": "markdown",
   "id": "a52dbac8-0fdd-44ef-a71e-b27a90ccc105",
   "metadata": {},
   "source": [
    "#### 3.Creamos un DataFrame, onde imos gardar os datos almacenados nas colunmas anteriores"
   ]
  },
  {
   "cell_type": "markdown",
   "id": "bac9657f-e9b5-4679-b2cc-37fac26c95e1",
   "metadata": {},
   "source": [
    "##### 3.1.Creamos o DataFrame"
   ]
  },
  {
   "cell_type": "code",
   "execution_count": null,
   "id": "fb690d13-3fcd-4079-8e7c-ad346d571b38",
   "metadata": {
    "executionInfo": {
     "elapsed": 249,
     "status": "ok",
     "timestamp": 1648221436721,
     "user": {
      "displayName": "Samuel Pedrosa",
      "photoUrl": "https://lh3.googleusercontent.com/a/default-user=s64",
      "userId": "03639184569403953080"
     },
     "user_tz": -60
    },
    "id": "fb690d13-3fcd-4079-8e7c-ad346d571b38"
   },
   "outputs": [],
   "source": [
    "circuitos = pd.DataFrame(columns = ['Nome' , 'Latitude', 'Lonxitude'])"
   ]
  },
  {
   "cell_type": "markdown",
   "id": "22961562-0b88-43aa-a0f2-112706efcf31",
   "metadata": {},
   "source": [
    "##### 3.2.Insertamos os datos das listas nas táboas correspondentes"
   ]
  },
  {
   "cell_type": "code",
   "execution_count": null,
   "id": "022a5b3b-ae9a-4c98-b19e-cbe400fd1768",
   "metadata": {
    "executionInfo": {
     "elapsed": 604,
     "status": "ok",
     "timestamp": 1648221439285,
     "user": {
      "displayName": "Samuel Pedrosa",
      "photoUrl": "https://lh3.googleusercontent.com/a/default-user=s64",
      "userId": "03639184569403953080"
     },
     "user_tz": -60
    },
    "id": "022a5b3b-ae9a-4c98-b19e-cbe400fd1768"
   },
   "outputs": [],
   "source": [
    "for i in range(0,226):\n",
    "    circuitos=circuitos.append({'Nome' : nomes[i] , 'Latitude' : latitude[i], 'Lonxitude' : lonxitude[i]} , ignore_index=True)"
   ]
  },
  {
   "cell_type": "code",
   "execution_count": null,
   "id": "5ab693b0-91e7-4cda-b725-4ea0f639ce4e",
   "metadata": {
    "colab": {
     "base_uri": "https://localhost:8080/"
    },
    "executionInfo": {
     "elapsed": 260,
     "status": "ok",
     "timestamp": 1648221441449,
     "user": {
      "displayName": "Samuel Pedrosa",
      "photoUrl": "https://lh3.googleusercontent.com/a/default-user=s64",
      "userId": "03639184569403953080"
     },
     "user_tz": -60
    },
    "id": "5ab693b0-91e7-4cda-b725-4ea0f639ce4e",
    "outputId": "bd45d068-c6b9-47ca-c875-53098336ac6e"
   },
   "outputs": [],
   "source": [
    "circuitos.head(5)"
   ]
  },
  {
   "cell_type": "markdown",
   "id": "e347aa60-6414-4fa4-81ca-c5018b0bb4f0",
   "metadata": {},
   "source": [
    "##### 3.3.Convertimos as táboas de Latitude e Lonxitude a float para que non dé erros á hora de tratalos numéricamente"
   ]
  },
  {
   "cell_type": "code",
   "execution_count": null,
   "id": "c293d70a-40a9-45f2-8511-71d74327b76a",
   "metadata": {
    "colab": {
     "base_uri": "https://localhost:8080/"
    },
    "executionInfo": {
     "elapsed": 248,
     "status": "ok",
     "timestamp": 1648221444697,
     "user": {
      "displayName": "Samuel Pedrosa",
      "photoUrl": "https://lh3.googleusercontent.com/a/default-user=s64",
      "userId": "03639184569403953080"
     },
     "user_tz": -60
    },
    "id": "c293d70a-40a9-45f2-8511-71d74327b76a",
    "outputId": "6438db90-a88f-40dc-d0f8-c726324387a9"
   },
   "outputs": [],
   "source": [
    "circuitos['Latitude'] = circuitos['Latitude'].astype(float)\n",
    "circuitos['Lonxitude'] = circuitos['Lonxitude'].astype(float)\n",
    "circuitos.info()"
   ]
  },
  {
   "cell_type": "markdown",
   "id": "0b7aa943-476a-48c0-89da-c4c89e6a62d4",
   "metadata": {},
   "source": [
    "#### 4.Vamos observar os datos dos outros dous CSV."
   ]
  },
  {
   "cell_type": "code",
   "execution_count": null,
   "id": "573f8d09-970a-4df1-968a-92a6119a8277",
   "metadata": {},
   "outputs": [],
   "source": [
    "constructores.head(3)"
   ]
  },
  {
   "cell_type": "code",
   "execution_count": null,
   "id": "627c9016-e1f4-4486-83f0-66b986fcbc70",
   "metadata": {},
   "outputs": [],
   "source": [
    "circuitos_2021.head(3)"
   ]
  },
  {
   "cell_type": "code",
   "execution_count": null,
   "id": "3effa552-b57b-4f03-aec5-198363b9c723",
   "metadata": {},
   "outputs": [],
   "source": [
    "constructores.info()"
   ]
  },
  {
   "cell_type": "code",
   "execution_count": null,
   "id": "01611f83-942c-4aaa-b6b2-add5a6b8cc97",
   "metadata": {},
   "outputs": [],
   "source": [
    "circuitos_2021.info()"
   ]
  },
  {
   "cell_type": "markdown",
   "id": "fa92b259-bc0d-4def-afa3-dd1f30bee76f",
   "metadata": {},
   "source": [
    "##### 5.Pintamos o mapa"
   ]
  },
  {
   "cell_type": "code",
   "execution_count": null,
   "id": "3dfc3d74-b50b-4aed-a790-f2b9ba42d92e",
   "metadata": {},
   "outputs": [],
   "source": [
    "#Establecemos o color para a capa dos países\n",
    "style1 = {'fillColor': '#da33ff', 'lineColor': '#ff33f6'}\n",
    "#Establecemos o color dos trazados dos circuitos\n",
    "style2 = {'color':\"yellow\"}\n",
    "#Como latitude e lonxitude de orixe, imos establecer a do Circuito de Monza, tamén coñecido como o templo da velocidade\n",
    "latitude = \"45.62222\"\n",
    "longitude = \"9.28889\"\n",
    "#Creamos o mapa\n",
    "m = folium.Map(location=[45.62222, 9.28889],zoom_start=8, width=1000, height=800)\n",
    "#Creamos o tilelayer para cambiar o fondo a negro\n",
    "tile_layer = folium.TileLayer(\n",
    "    tiles=\"https://{s}.basemaps.cartocdn.com/rastertiles/dark_all/{z}/{x}/{y}.png\",\n",
    "    attr='&copy; <a href=\"https://www.openstreetmap.org/copyright\">OpenStreetMap</a> contributors &copy; <a href=\"https://carto.com/attributions\">CARTO</a>',\n",
    "    max_zoom=19,\n",
    "    name='Fondo Escuro',\n",
    "    control=True,\n",
    "    opacity=0.5\n",
    ")\n",
    "#Engadimos o fondo ao mapa\n",
    "tile_layer.add_to(m)\n",
    "#Creamos un clúster onde imos almacenar toda a información\n",
    "marker_cluster=MarkerCluster(name=\"Circuitos e Fábricas\").add_to(m)\n",
    "#Cargamos os circuitos da Wikipedia\n",
    "for i in range(0,226):\n",
    "    url = 'https://nominatim.openstreetmap.org/search'\n",
    "    busqueda =[circuitos.Latitude[i],circuitos.Lonxitude[i]]\n",
    "    payload = {'q': busqueda ,'format':'json'}\n",
    "    response = requests.get(url,params=payload)\n",
    "    folium.Marker([circuitos.Latitude[i],circuitos.Lonxitude[i]],popup=(f'{circuitos.Nome[i]}'),icon=folium.Icon(color='red',icon='flag-checkered', prefix='fa')).add_to(marker_cluster)\n",
    "#Cargamos a información dos constructores\n",
    "for i in range(0,10):\n",
    "    url = 'https://nominatim.openstreetmap.org/search'\n",
    "    busqueda =[constructores.Latitude[i],constructores.Longitude[i]]\n",
    "    payload = {'q': busqueda ,'format':'json'}\n",
    "    response = requests.get(url,params=payload)\n",
    "    folium.Marker([constructores.Latitude[i],constructores.Longitude[i]],popup=(f'{constructores.name[i]}'),icon=folium.Icon(color='green',icon='car', prefix='fa')).add_to(marker_cluster)\n",
    "#Cargamos os datos dos outros circuitos\n",
    "for i in range(0,7):\n",
    "    url = 'https://nominatim.openstreetmap.org/search'\n",
    "    busqueda =[circuitos_2021.lat[i],circuitos_2021.lng[i]]\n",
    "    payload = {'q': busqueda ,'format':'json'}\n",
    "    response = requests.get(url,params=payload)\n",
    "    folium.Marker([circuitos_2021.lat[i],circuitos_2021.lng[i]],popup=(f'{circuitos_2021.name[i]}'),icon=folium.Icon(color='red',icon='flag-checkered', prefix='fa')).add_to(marker_cluster)\n",
    "folium.GeoJson(file,name='paises',style_function=lambda x:style1).add_to(m)\n",
    "folium.GeoJson(f1,name='circuitos_f1',style_function=lambda x:style2).add_to(m)\n",
    "folium.LayerControl().add_to(m)\n",
    "m.fit_bounds([latitude,longitude])\n",
    "m"
   ]
  },
  {
   "cell_type": "markdown",
   "id": "7eebc40e-b2d4-4735-b116-ec9b4e92c7ac",
   "metadata": {
    "id": "28800090-9642-4770-bb78-d4534ba8bb56",
    "tags": []
   },
   "source": [
    "#### 6.En último lugar gardamos o mapa"
   ]
  },
  {
   "cell_type": "code",
   "execution_count": null,
   "id": "22c3b510-7c82-4d37-968c-91ba4d0d3d9e",
   "metadata": {},
   "outputs": [],
   "source": [
    "m.save('C:/Users/samuel.pedrosapedros/Downloads/mapa_interactivo.html')"
   ]
  }
 ],
 "metadata": {
  "colab": {
   "collapsed_sections": [],
   "name": "Mapa Circuitos.ipynb",
   "provenance": []
  },
  "kernelspec": {
   "display_name": "Python 3 (ipykernel)",
   "language": "python",
   "name": "python3"
  },
  "language_info": {
   "codemirror_mode": {
    "name": "ipython",
    "version": 3
   },
   "file_extension": ".py",
   "mimetype": "text/x-python",
   "name": "python",
   "nbconvert_exporter": "python",
   "pygments_lexer": "ipython3",
   "version": "3.8.12"
  }
 },
 "nbformat": 4,
 "nbformat_minor": 5
}
